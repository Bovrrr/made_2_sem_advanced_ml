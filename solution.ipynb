{
 "cells": [
  {
   "cell_type": "code",
   "execution_count": 1,
   "metadata": {},
   "outputs": [],
   "source": [
    "import numpy as np\n",
    "import pandas as pd\n",
    "\n",
    "from collections import Counter\n",
    "from typing import (\n",
    "    List,\n",
    "    Dict,\n",
    "    Optional,\n",
    ")\n",
    "import re\n",
    "\n",
    "import matplotlib.pyplot as plt\n",
    "%matplotlib inline\n"
   ]
  },
  {
   "cell_type": "markdown",
   "metadata": {},
   "source": [
    "Constants"
   ]
  },
  {
   "cell_type": "code",
   "execution_count": 2,
   "metadata": {},
   "outputs": [],
   "source": [
    "RANDOM_SEED = 5\n",
    "DATA_PATH = \"raw_data\"\n",
    "AK_FILE = \"AnnaKarenina\"\n",
    "WNP_RU_FILE = \"WarAndPeace\"\n",
    "WNP_EN_FILE = \"WarAndPeaceEng\"\n",
    "TXT = \".txt\"\n",
    "\n",
    "np.random.seed(RANDOM_SEED)\n"
   ]
  },
  {
   "cell_type": "markdown",
   "metadata": {},
   "source": [
    "Data loading"
   ]
  },
  {
   "cell_type": "code",
   "execution_count": 3,
   "metadata": {},
   "outputs": [],
   "source": [
    "wnp_ru = None\n",
    "with open(f\"{DATA_PATH}/{WNP_RU_FILE}{TXT}\", \"r\", encoding=\"utf-8\") as f:\n",
    "    wnp_ru = f.read()\n",
    "assert wnp_ru is not None\n",
    "\n",
    "\n",
    "wnp_eng = None\n",
    "with open(f\"{DATA_PATH}/{WNP_EN_FILE}{TXT}\", \"r\", encoding=\"utf-8\") as f:\n",
    "    wnp_eng = f.read()\n",
    "assert wnp_eng is not None\n",
    "\n",
    "\n",
    "ak = None\n",
    "with open(f\"{DATA_PATH}/{AK_FILE}{TXT}\", \"r\", encoding=\"utf-8\") as f:\n",
    "    ak = f.read()\n",
    "assert ak is not None\n"
   ]
  },
  {
   "cell_type": "code",
   "execution_count": 4,
   "metadata": {},
   "outputs": [],
   "source": [
    "class TextPreproccesing:\n",
    "    def __init__(self, text: str) -> None:\n",
    "        try:\n",
    "            regex = re.compile(\"[\\W_\\d]+|[^А-Яа-я]+\")\n",
    "            self.original_text = regex.sub(\" \", text.lower()).strip()\n",
    "        except BaseException as e:\n",
    "            print(f\"error with text processing\")\n",
    "            print(e)\n",
    "\n",
    "    def count_letters_freq(self) -> None:\n",
    "        self.counter: Optional[Counter] = Counter(self.original_text)\n",
    "        self.letter_num = len(self.counter.keys())\n"
   ]
  },
  {
   "cell_type": "code",
   "execution_count": 5,
   "metadata": {},
   "outputs": [],
   "source": [
    "wnp_ru_counter = TextPreproccesing(wnp_ru)\n",
    "wnp_ru_counter.count_letters_freq()\n"
   ]
  },
  {
   "cell_type": "code",
   "execution_count": 13,
   "metadata": {},
   "outputs": [
    {
     "data": {
      "text/plain": [
       "[('a', 1887),\n",
       " ('r', 1853),\n",
       " ('u', 1732),\n",
       " ('o', 1724),\n",
       " ('t', 1640),\n",
       " ('э', 1629),\n",
       " ('щ', 1514),\n",
       " ('l', 1312),\n",
       " ('ф', 1209),\n",
       " ('m', 1131),\n",
       " ('c', 921),\n",
       " ('d', 870),\n",
       " ('p', 726),\n",
       " ('v', 616),\n",
       " ('ё', 431),\n",
       " ('h', 416),\n",
       " ('é', 367),\n",
       " ('b', 317),\n",
       " ('q', 292),\n",
       " ('f', 290),\n",
       " ('ъ', 283),\n",
       " ('g', 221),\n",
       " ('j', 217),\n",
       " ('z', 182),\n",
       " ('x', 148),\n",
       " ('è', 143),\n",
       " ('à', 110),\n",
       " ('ê', 61),\n",
       " ('y', 60),\n",
       " ('k', 41),\n",
       " ('w', 37),\n",
       " ('ç', 23),\n",
       " ('â', 18),\n",
       " ('ô', 11),\n",
       " ('î', 8),\n",
       " ('ö', 6),\n",
       " ('ü', 4),\n",
       " ('û', 2),\n",
       " ('í', 1),\n",
       " ('ä', 1),\n",
       " ('å', 1)]"
      ]
     },
     "execution_count": 13,
     "metadata": {},
     "output_type": "execute_result"
    }
   ],
   "source": [
    "sorted(\n",
    "    wnp_ru_counter.counter.items(),\n",
    "    key=lambda x: x[1],\n",
    "    reverse=True,\n",
    ")\n"
   ]
  },
  {
   "cell_type": "code",
   "execution_count": null,
   "metadata": {},
   "outputs": [],
   "source": []
  },
  {
   "cell_type": "code",
   "execution_count": null,
   "metadata": {},
   "outputs": [],
   "source": []
  },
  {
   "cell_type": "code",
   "execution_count": null,
   "metadata": {},
   "outputs": [],
   "source": []
  },
  {
   "cell_type": "code",
   "execution_count": null,
   "metadata": {},
   "outputs": [],
   "source": []
  },
  {
   "cell_type": "code",
   "execution_count": null,
   "metadata": {},
   "outputs": [],
   "source": []
  },
  {
   "cell_type": "code",
   "execution_count": null,
   "metadata": {},
   "outputs": [],
   "source": []
  },
  {
   "cell_type": "code",
   "execution_count": null,
   "metadata": {},
   "outputs": [],
   "source": []
  },
  {
   "cell_type": "code",
   "execution_count": null,
   "metadata": {},
   "outputs": [],
   "source": []
  },
  {
   "cell_type": "code",
   "execution_count": null,
   "metadata": {},
   "outputs": [],
   "source": []
  }
 ],
 "metadata": {
  "interpreter": {
   "hash": "916dbcbb3f70747c44a77c7bcd40155683ae19c65e1c03b4aa3499c5328201f1"
  },
  "kernelspec": {
   "display_name": "Python 3.9.7 64-bit",
   "language": "python",
   "name": "python3"
  },
  "language_info": {
   "codemirror_mode": {
    "name": "ipython",
    "version": 3
   },
   "file_extension": ".py",
   "mimetype": "text/x-python",
   "name": "python",
   "nbconvert_exporter": "python",
   "pygments_lexer": "ipython3",
   "version": "3.9.7"
  },
  "orig_nbformat": 4
 },
 "nbformat": 4,
 "nbformat_minor": 2
}
