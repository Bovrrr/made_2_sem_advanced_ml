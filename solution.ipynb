{
 "cells": [
  {
   "cell_type": "code",
   "execution_count": 1,
   "metadata": {},
   "outputs": [],
   "source": [
    "import numpy as np\n",
    "import pandas as pd\n",
    "\n",
    "from collections import Counter\n",
    "from typing import (\n",
    "    List,\n",
    "    Dict,\n",
    "    Optional,\n",
    ")\n",
    "import re\n",
    "\n",
    "import matplotlib.pyplot as plt\n",
    "%matplotlib inline\n"
   ]
  },
  {
   "cell_type": "markdown",
   "metadata": {},
   "source": [
    "Constants"
   ]
  },
  {
   "cell_type": "code",
   "execution_count": 2,
   "metadata": {},
   "outputs": [],
   "source": [
    "RANDOM_SEED = 5\n",
    "DATA_PATH = \"raw_data\"\n",
    "AK_FILE = \"AnnaKarenina\"\n",
    "WNP_RU_FILE = \"WarAndPeace\"\n",
    "WNP_EN_FILE = \"WarAndPeaceEng\"\n",
    "TXT = \".txt\"\n",
    "\n",
    "np.random.seed(RANDOM_SEED)\n"
   ]
  },
  {
   "cell_type": "markdown",
   "metadata": {},
   "source": [
    "Data loading"
   ]
  },
  {
   "cell_type": "code",
   "execution_count": 3,
   "metadata": {},
   "outputs": [],
   "source": [
    "wnp_ru = None\n",
    "with open(f\"{DATA_PATH}/{WNP_RU_FILE}{TXT}\", \"r\", encoding=\"utf-8\") as f:\n",
    "    wnp_ru = f.read()\n",
    "assert wnp_ru is not None\n",
    "\n",
    "\n",
    "wnp_eng = None\n",
    "with open(f\"{DATA_PATH}/{WNP_EN_FILE}{TXT}\", \"r\", encoding=\"utf-8\") as f:\n",
    "    wnp_eng = f.read()\n",
    "assert wnp_eng is not None\n",
    "\n",
    "\n",
    "ak = None\n",
    "with open(f\"{DATA_PATH}/{AK_FILE}{TXT}\", \"r\", encoding=\"utf-8\") as f:\n",
    "    ak = f.read()\n",
    "assert ak is not None\n"
   ]
  },
  {
   "cell_type": "markdown",
   "metadata": {},
   "source": [
    "# 1. Реализуйте базовый частотный метод по Шерлоку Холмсу:\n",
    "* подсчитайте частоты букв по корпусам (пунктуацию и капитализацию можно просто опустить, а вот пробелы лучше оставить);\n",
    "* возьмите какие-нибудь тестовые тексты (нужно взять по меньшей мере 2-3 предложения, иначе вряд ли сработает), зашифруйте их посредством случайной перестановки символов;\n",
    "* расшифруйте их таким частотным методом.\n"
   ]
  },
  {
   "cell_type": "code",
   "execution_count": 9,
   "metadata": {},
   "outputs": [],
   "source": [
    "class TextPreproccesing:\n",
    "    def __init__(self, text: str) -> None:\n",
    "        try:\n",
    "            self.regex = re.compile(\"[\\W_\\d]+|[^А-Яа-я]+\")\n",
    "            self.original_text = self.regex.sub(\" \", text.lower()).strip()\n",
    "        except BaseException as e:\n",
    "            print(f\"error with text processing\")\n",
    "            print(e)\n",
    "\n",
    "    def count_letters_freq(self):\n",
    "        self.counter: Optional[Counter] = Counter(self.original_text)\n",
    "        self.letter_num = len(self.counter.keys()) # 33 буквы\n",
    "        return self\n",
    "\n",
    "    #def decode(self, )\n"
   ]
  },
  {
   "cell_type": "code",
   "execution_count": 11,
   "metadata": {},
   "outputs": [
    {
     "name": "stdout",
     "output_type": "stream",
     "text": [
      "33\n",
      "война и мир самый известный роман льва николаевича толстого как никакое другое произведение писателя отражает глубину его мироощущения и философии эта книга из разряда вечных потому что она обо всем о жизни и смерти о любви и чести о мужестве и героизме о славе и подвиге о войне и мире первый том знакомит с высшим обществом россии  века показаны взаимоотношения между родителями и детьми в семье ро\n",
      "Counter({' ': 105213, 'о': 61282, 'а': 45209, 'е': 42519, 'и': 35838, 'н': 35119, 'т': 30619, 'с': 28128, 'л': 27277, 'в': 24824, 'р': 24570, 'к': 19328, 'д': 16387, 'м': 15940, 'у': 15454, 'п': 13847, 'я': 12477, 'г': 11177, 'ь': 10498, 'ы': 10233, 'з': 9602, 'б': 9310, 'ч': 7349, 'й': 6210, 'ж': 5460, 'ш': 5090, 'х': 4600, 'ю': 3495, 'ц': 2179, 'э': 1629, 'щ': 1514, 'ф': 1209, 'ъ': 283})\n",
      "CPU times: user 151 ms, sys: 7.15 ms, total: 158 ms\n",
      "Wall time: 165 ms\n"
     ]
    }
   ],
   "source": [
    "%%time\n",
    "\n",
    "\n",
    "wnp_ru_processed = TextPreproccesing(wnp_ru).count_letters_freq()\n",
    "print(wnp_ru_processed.letter_num)\n",
    "print(wnp_ru_processed.original_text[:100*4])\n",
    "print(wnp_ru_processed.counter)\n"
   ]
  },
  {
   "cell_type": "code",
   "execution_count": 43,
   "metadata": {},
   "outputs": [],
   "source": [
    "class TextEncode:\n",
    "    \"\"\"class for ceaser encoding\"\"\"\n",
    "    def __init__(self, shift: int = 1, ru: bool = True) -> None:\n",
    "        self.alphabet_ru = \"абвгдеёжзийклмнопрстуфхцчшщъыьэюя\"\n",
    "        self.shift = shift % 33 if ru else shift % 26\n",
    "\n",
    "        self.encode_dict = {\n",
    "            origin_letter: self.alphabet_ru[\n",
    "                (self.alphabet_ru.index(origin_letter) + self.shift) % 33\n",
    "            ]\n",
    "            for origin_letter in self.alphabet_ru\n",
    "        }\n",
    "        self.encode_dict[\" \"] = \" \"\n",
    "        self.decode_dict = {v: k for k, v in self.encode_dict.items()}\n",
    "\n",
    "    def encode(self, text: str) -> str:\n",
    "        import pandas as pd\n",
    "\n",
    "        text_pandas = pd.Series(list(text)).replace(self.encode_dict)\n",
    "        text_pandas = \"\".join(list(text_pandas))\n",
    "\n",
    "        return text_pandas\n",
    "\n",
    "    def decode(self, text: str) -> str:\n",
    "        import pandas as pd\n",
    "\n",
    "        text_pandas = pd.Series(list(text)).replace(self.decode_dict)\n",
    "        text_pandas = \"\".join(list(text_pandas))\n",
    "\n",
    "        return text_pandas\n"
   ]
  },
  {
   "cell_type": "code",
   "execution_count": 46,
   "metadata": {},
   "outputs": [
    {
     "name": "stdout",
     "output_type": "stream",
     "text": [
      "статья википедии с препроцессингом\n",
      "андре й никола евич колмого ров апреля тамбов октя\n",
      "--------------------------------------------------\n",
      "зашифрованная статья википедии с препроцессингом\n",
      "боесё к ойлпмб ёгйш лпмнпдп спг брсёма убнвпг плуа\n"
     ]
    }
   ],
   "source": [
    "Kolmogorov_wiki = \"\"\"Андре́й Никола́евич Колмого́ров (12 (25) апреля 1903, Тамбов — 20 октября 1987, Москва) — советский математик, один из крупнейших математиков XX века. Один из основоположников современной теории вероятностей, им получены фундаментальные результаты в топологии, геометрии, математической логике, классической механике, теории турбулентности, теории сложности алгоритмов, теории информации, теории функций, теории тригонометрических рядов, теории меры, теории приближения функций, теории множеств, теории дифференциальных уравнений, теории динамических систем, функциональном анализе и в ряде других областей математики и её приложений. Автор новаторских работ по философии, истории, методологии и преподаванию математики, известны его работы в статистической физике (в частности, уравнение Джонсона — Мела — Аврами — Колмогорова).\n",
    "\n",
    "Профессор Московского государственного университета (с 1931), доктор физико-математических наук, академик Академии наук СССР (1939). Президент Московского математического общества (ММО) в 1964—1966 и 1974—1985 годах. Герой Социалистического Труда (1963). Лауреат Ленинской и Сталинской премии.\n",
    "\n",
    "Иностранный член Национальной академии наук США (1967)[8], Лондонского королевского общества (1964)[9], Французской (Парижской) академии наук (1966)[10], член Германской академии естествоиспытателей «Леопольдина» (1959), почётный член Американской академии искусств и наук (1959), иностранный член Венгерской академии наук (1965), Польской академии наук (1956), Нидерландской королевской академии наук (1963), АН ГДР (1977), Академии наук Финляндии (1985), почётный член Румынской академии. Член Лондонского математического общества (1962), Индийского математического общества (1962), иностранный член Американского философского общества (1961). Почётный доктор Парижского университета (1955), Стокгольмского университета (1960), Индийского статистического института  (англ.)рус. в Калькутте (1962).\"\"\"\n",
    "\n",
    "Kolmogorov_wiki_processed = TextPreproccesing(Kolmogorov_wiki).count_letters_freq()\n",
    "Kolmogorov_wiki_encoded = TextEncode().encode(Kolmogorov_wiki_processed.original_text)\n",
    "print(\n",
    "    f\"статья википедии с препроцессингом\\n{Kolmogorov_wiki_processed.original_text[:50]}\"\n",
    ")\n",
    "print(\"--\"* 25)\n",
    "print(\n",
    "    f\"зашифрованная статья википедии с препроцессингом\\n{Kolmogorov_wiki_encoded[:50]}\"\n",
    ")\n"
   ]
  },
  {
   "cell_type": "code",
   "execution_count": null,
   "metadata": {},
   "outputs": [],
   "source": []
  },
  {
   "cell_type": "code",
   "execution_count": null,
   "metadata": {},
   "outputs": [],
   "source": []
  },
  {
   "cell_type": "code",
   "execution_count": null,
   "metadata": {},
   "outputs": [],
   "source": []
  },
  {
   "cell_type": "code",
   "execution_count": null,
   "metadata": {},
   "outputs": [],
   "source": []
  },
  {
   "cell_type": "code",
   "execution_count": null,
   "metadata": {},
   "outputs": [],
   "source": []
  },
  {
   "cell_type": "code",
   "execution_count": null,
   "metadata": {},
   "outputs": [],
   "source": []
  },
  {
   "cell_type": "code",
   "execution_count": null,
   "metadata": {},
   "outputs": [],
   "source": []
  },
  {
   "cell_type": "code",
   "execution_count": null,
   "metadata": {},
   "outputs": [],
   "source": []
  },
  {
   "cell_type": "code",
   "execution_count": null,
   "metadata": {},
   "outputs": [],
   "source": []
  }
 ],
 "metadata": {
  "interpreter": {
   "hash": "31f2aee4e71d21fbe5cf8b01ff0e069b9275f58929596ceb00d14d90e3e16cd6"
  },
  "kernelspec": {
   "display_name": "Python 3.7.13 64-bit",
   "language": "python",
   "name": "python3"
  },
  "language_info": {
   "codemirror_mode": {
    "name": "ipython",
    "version": 3
   },
   "file_extension": ".py",
   "mimetype": "text/x-python",
   "name": "python",
   "nbconvert_exporter": "python",
   "pygments_lexer": "ipython3",
   "version": "3.7.13"
  },
  "orig_nbformat": 4
 },
 "nbformat": 4,
 "nbformat_minor": 2
}
